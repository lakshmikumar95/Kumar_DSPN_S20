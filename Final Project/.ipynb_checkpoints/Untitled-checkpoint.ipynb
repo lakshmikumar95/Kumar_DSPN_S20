{
 "cells": [
  {
   "cell_type": "markdown",
   "metadata": {},
   "source": [
    "In Sample 3, trait-level empathy was measured at baseline.\n",
    "- **Toronto Empathy Questionnaire**: A short 16-item self-report measure of dispositional empathy that captures both cognitive and affective empathy (Spreng et al., 2009)."
   ]
  },
  {
   "cell_type": "markdown",
   "metadata": {},
   "source": [
    "- **General alcohol use**: Measured at baseline with one item that was rated on a scale from 0 to 7 (ordinal-categorical) with the following response options: 0 (“I have never used alcohol”), 1 (“I used to drink but do not drink now”), 2 (“I drink socially but never to excess”), 3 (“I sometimes drink to the point of feeling “high””, 4 (“I usually drink moderately but will often drink more than I should”), 5 (“I often use alcohol to excess”), 6 (“I have had serious problems with my drinking”), and 7 (“I consider myself an alcoholic”)."
   ]
  },
  {
   "cell_type": "code",
   "execution_count": null,
   "metadata": {},
   "outputs": [],
   "source": [
    "library(AER)\n",
    "dispersiontest(glm.fit)"
   ]
  },
  {
   "cell_type": "code",
   "execution_count": null,
   "metadata": {},
   "outputs": [],
   "source": [
    "library(pscl)\n",
    "z.fit <- zeroinfl(alc.amount ~ day.cog.em + day.aff.em | day.cog.em + \n",
    "                         day.aff.em, link = \"logit\", dist = \"poisson\", data = dat4)\n",
    "summary(z.fit)"
   ]
  },
  {
   "cell_type": "code",
   "execution_count": null,
   "metadata": {},
   "outputs": [],
   "source": [
    "library(ggplot2)\n",
    "par(mfrow=c(1,2))\n",
    "# Number of drinks consumed per person per day\n",
    "qplot(ldat5$day.alc.amount,\n",
    "      geom = \"histogram\",\n",
    "      binwidth = 1,  \n",
    "      main = \"Number of Drinks Consumed Per Person Per Day\", \n",
    "      xlab = \"Alcohol Amount Drank\",  \n",
    "      fill = I(\"black\"), alpha = 0.5,\n",
    "      col = I(\"black\"))\n",
    "# Number of drinks consumed per person for total number of days\n",
    "qplot(wdat5$alc.amount,\n",
    "      geom = \"histogram\",\n",
    "      binwidth = 1,  \n",
    "      main = \"Number of Drinks Consumed Per Person Overall\", \n",
    "      xlab = \"Alcohol Amount Drank\",  \n",
    "      fill = I(\"black\"), alpha = 0.5,\n",
    "      col = I(\"black\"))"
   ]
  },
  {
   "cell_type": "code",
   "execution_count": null,
   "metadata": {},
   "outputs": [],
   "source": []
  },
  {
   "cell_type": "code",
   "execution_count": null,
   "metadata": {},
   "outputs": [],
   "source": []
  }
 ],
 "metadata": {
  "kernelspec": {
   "display_name": "R",
   "language": "R",
   "name": "ir"
  },
  "language_info": {
   "codemirror_mode": "r",
   "file_extension": ".r",
   "mimetype": "text/x-r-source",
   "name": "R",
   "pygments_lexer": "r",
   "version": "3.6.3"
  }
 },
 "nbformat": 4,
 "nbformat_minor": 4
}
