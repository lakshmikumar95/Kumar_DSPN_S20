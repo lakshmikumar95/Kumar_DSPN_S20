{
 "cells": [
  {
   "cell_type": "markdown",
   "metadata": {},
   "source": [
    "Question 1a.\n",
    "\n",
    "iii. For a fixed value of IQ and GPA, males earn more on average than females provided that the GPA is high enough.\n",
    "\n",
    "$Y = \\beta_0 + \\beta_1X_{GPA} + \\beta_2X_{IQ} + \\beta_3X_{Gender} + \\beta_4X_{GPA}X_{IQ} + \\beta_5X_{GPA}X_{Gender}$\n",
    "\n",
    "Given that IQ and GPA are fixed values, the only predictor value that can vary ($X_{Gender}$) is noted in the equation below.\n",
    "\n",
    "$Y = \\text{Constant} + \\beta_3X_{Gender} + \\beta_5X_{GPA}X_{Gender}$\n",
    "\n",
    "$Y = \\text{Constant} + (\\beta_3 + \\beta_5X_{GPA})X_{Gender}$\n",
    "\n",
    "$Y = \\text{Constant} + (35 - 10X_{GPA})X_{Gender}$\n",
    "\n",
    "In the simplified equation, we have the constant (all the variables that are fixed) and the slope $(35 - 10X_{GPA})$. We can see that when GPA is below 3.5, females earn more on average than men (slope is positive), but once GPA is above 3.5, males earn more on average than females (slope is negative). Therefore for a fixed value of IQ and GPA, males earn more on average than females provided that the GPA is high enough (> 3.5)."
   ]
  },
  {
   "cell_type": "markdown",
   "metadata": {},
   "source": [
    "Question 1b.\n",
    "\n",
    "$Y = \\beta_0 + \\beta_1X_{GPA} + \\beta_2X_{IQ} + \\beta_3X_{Gender} + \\beta_4X_{GPA}X_{IQ} + \\beta_5X_{GPA}X_{Gender}$\n",
    "\n",
    "$Y = 50 + 20X_{GPA} + 0.07X_{IQ} + 35X_{Gender} + 0.01X_{GPA}X_{IQ} - 10X_{GPA}X_{Gender}$\n",
    "\n",
    "$Y = 50 + 20(4) + 0.07(110) + 35(1) + 0.01(4)(110) - 10(4)(1)$\n",
    "\n",
    "$Y = 50 + 80 + 7.7 + 35 + 4.4 - 40$\n",
    "\n",
    "$Y = 137.1$\n",
    "\n",
    "The salary of a female graduate with IQ of 110 and a GPA of 4.0 is 137.1 thousand dollars."
   ]
  },
  {
   "cell_type": "markdown",
   "metadata": {},
   "source": [
    "Question 1c.\n",
    "\n",
    "False. Just because the magnitude of coefficient for the GPA/IQ interaction term is very small, does not mean there is very little evidence of an interaction effect. In order to be able to check if there is evidence for an interaction effect, we would need to check the p-value for the t-test to see if the interaction effect is significantly different from 0. If p < 0.05, then we could reject the null ($H_0: \\beta_4 = 0$), and state that interaction effect is significantly different from 0 and significantly impacts Y."
   ]
  },
  {
   "cell_type": "markdown",
   "metadata": {},
   "source": [
    "Question 2.\n",
    "\n",
    "High leverage observations are anomalies in X that have a particularly high influence on the estimation of $f(X)$. In terms of regression, these are observations that pull the line in one direction or another. High leverage observations can violate the assumption of homoscedasticity (or equal variances). They can have a sizable impact on the estimated regression line (the higher the leverage, the greater the impact). It is cause for concern if the least squares line is heavily affected by just a couple of observations, because any problems with these points may invalidate the entire fit. So it is important to identify high leverage observations.\n"
   ]
  },
  {
   "cell_type": "markdown",
   "metadata": {},
   "source": [
    "Question 3a.\n",
    "\n",
    "A mixed model can be represented as\n",
    "\n",
    "$Y = X \\beta + Z \\upsilon + \\epsilon$\n",
    "\n",
    "Here the fixed effects are described by $X \\beta$. The random effects are described by $Z \\upsilon$, where $Z$ is another design matrix like $X$, but one that define the random effects (it relates the observations Y to $\\upsilon$). $\\upsilon$ is an unknown vector of random effects.\n",
    "\n",
    "In terms of controlling for a predictor, let's say that $X_{real}$ is the set of factors that you are interested in and $X_{nuisance}$ are factors that may effect your estimation of the relationship $Y=f(X_{real})$. For a regular control variable, we would control for the effects of $X_{nuisance}$ by simply adding it to the model. We think that the relationship between $X_{nuisance}$ and $Y$ is meaningful, not random. So the full model would be something like\n",
    "\n",
    "$Y = \\beta_0 + \\beta_1 X_{real} + \\beta_2 X_{nuisance} + \\epsilon$\n",
    "\n",
    "But because $\\upsilon Z$ is random, we cannot assume that for a unit change in $Z$ we will see a simple up or down effect on $Y$. This means that we can't use the same objective function that we used for a fixed effects model."
   ]
  },
  {
   "cell_type": "markdown",
   "metadata": {},
   "source": [
    "Question 3b.\n",
    "\n",
    "The objective function for a fixed effect model (i.e. a linear regression model) is\n",
    "\n",
    "$min(||Y-\\beta_0-X\\beta_1||^2)$\n",
    "\n",
    "However, in the mixed model case, $Z$ is assumed to have it's own random structure. This means that the variance of the regression coefficients on the random effects ($\\upsilon$) have a different variance than the regression coefficients on the fixed effects ($\\beta$). Specifically we say that\n",
    "\n",
    "$\\upsilon \\sim N(0,\\Sigma_{\\theta})$\n",
    "\n",
    "In this case, the effects (i.e., $\\upsilon Z$) are real but randomly determined. So the objective function to be minimized is\n",
    "\n",
    "$min(||Y-X\\beta-Z\\Lambda_{\\theta}\\upsilon||^2+||\\upsilon||^2)$\n",
    "\n",
    "If there no structure in the random effects at all, then $\\Sigma_{\\theta}$ would be the noise factor $\\epsilon$ (or in the matrix case $\\epsilon I$, where $I$ is the identity matrix). But if the random effects are real, then we have to estimate an independent covariance matrix ($\\Lambda_{\\theta}$) that explains the random structure in $Z$. Thus we can estimate $\\Sigma_{\\theta}$ by\n",
    "\n",
    "$\\Sigma_{\\theta} = \\epsilon \\Lambda_{\\theta} \\Lambda_{\\theta}'$\n",
    "\n",
    "Because we have to estimate $\\Lambda_{\\theta}$ (and by extension $\\Sigma_{\\theta}$), this means we can't use the simple MLE solution to the OLS regression problem in order to find both $\\beta$ and $\\upsilon$. This is what makes the objective function for the mixed effects model different from the objective function for the OLS model."
   ]
  },
  {
   "cell_type": "markdown",
   "metadata": {},
   "source": [
    "Question 3c.\n",
    "\n",
    "A random effect variable can influence $Y$ is by moderating the slope of the fixed effects. In the context where $X$ is a continuous, quantitative variable, as $X$ varies around it's mean, the slope of it's relationship can be impacted by the random effect variable as well."
   ]
  },
  {
   "cell_type": "markdown",
   "metadata": {},
   "source": [
    "Question 3d.\n",
    "\n",
    "Classroom number, and time of day would be considered random factors because they are categorical variables that are not of primary interest but could have a systematic influence on the response variable."
   ]
  },
  {
   "cell_type": "code",
   "execution_count": 2,
   "metadata": {
    "scrolled": false
   },
   "outputs": [
    {
     "data": {
      "text/html": [
       "<ol class=list-inline>\n",
       "\t<li>'herd'</li>\n",
       "\t<li>'incidence'</li>\n",
       "\t<li>'size'</li>\n",
       "\t<li>'period'</li>\n",
       "</ol>\n"
      ],
      "text/latex": [
       "\\begin{enumerate*}\n",
       "\\item 'herd'\n",
       "\\item 'incidence'\n",
       "\\item 'size'\n",
       "\\item 'period'\n",
       "\\end{enumerate*}\n"
      ],
      "text/markdown": [
       "1. 'herd'\n",
       "2. 'incidence'\n",
       "3. 'size'\n",
       "4. 'period'\n",
       "\n",
       "\n"
      ],
      "text/plain": [
       "[1] \"herd\"      \"incidence\" \"size\"      \"period\"   "
      ]
     },
     "metadata": {},
     "output_type": "display_data"
    },
    {
     "data": {
      "text/html": [
       "<table>\n",
       "<caption>A data.frame: 6 × 4</caption>\n",
       "<thead>\n",
       "\t<tr><th></th><th scope=col>herd</th><th scope=col>incidence</th><th scope=col>size</th><th scope=col>period</th></tr>\n",
       "\t<tr><th></th><th scope=col>&lt;fct&gt;</th><th scope=col>&lt;dbl&gt;</th><th scope=col>&lt;dbl&gt;</th><th scope=col>&lt;fct&gt;</th></tr>\n",
       "</thead>\n",
       "<tbody>\n",
       "\t<tr><th scope=row>1</th><td>1</td><td>2</td><td>14</td><td>1</td></tr>\n",
       "\t<tr><th scope=row>2</th><td>1</td><td>3</td><td>12</td><td>2</td></tr>\n",
       "\t<tr><th scope=row>3</th><td>1</td><td>4</td><td> 9</td><td>3</td></tr>\n",
       "\t<tr><th scope=row>4</th><td>1</td><td>0</td><td> 5</td><td>4</td></tr>\n",
       "\t<tr><th scope=row>5</th><td>2</td><td>3</td><td>22</td><td>1</td></tr>\n",
       "\t<tr><th scope=row>6</th><td>2</td><td>1</td><td>18</td><td>2</td></tr>\n",
       "</tbody>\n",
       "</table>\n"
      ],
      "text/latex": [
       "A data.frame: 6 × 4\n",
       "\\begin{tabular}{r|llll}\n",
       "  & herd & incidence & size & period\\\\\n",
       "  & <fct> & <dbl> & <dbl> & <fct>\\\\\n",
       "\\hline\n",
       "\t1 & 1 & 2 & 14 & 1\\\\\n",
       "\t2 & 1 & 3 & 12 & 2\\\\\n",
       "\t3 & 1 & 4 &  9 & 3\\\\\n",
       "\t4 & 1 & 0 &  5 & 4\\\\\n",
       "\t5 & 2 & 3 & 22 & 1\\\\\n",
       "\t6 & 2 & 1 & 18 & 2\\\\\n",
       "\\end{tabular}\n"
      ],
      "text/markdown": [
       "\n",
       "A data.frame: 6 × 4\n",
       "\n",
       "| <!--/--> | herd &lt;fct&gt; | incidence &lt;dbl&gt; | size &lt;dbl&gt; | period &lt;fct&gt; |\n",
       "|---|---|---|---|---|\n",
       "| 1 | 1 | 2 | 14 | 1 |\n",
       "| 2 | 1 | 3 | 12 | 2 |\n",
       "| 3 | 1 | 4 |  9 | 3 |\n",
       "| 4 | 1 | 0 |  5 | 4 |\n",
       "| 5 | 2 | 3 | 22 | 1 |\n",
       "| 6 | 2 | 1 | 18 | 2 |\n",
       "\n"
      ],
      "text/plain": [
       "  herd incidence size period\n",
       "1 1    2         14   1     \n",
       "2 1    3         12   2     \n",
       "3 1    4          9   3     \n",
       "4 1    0          5   4     \n",
       "5 2    3         22   1     \n",
       "6 2    1         18   2     "
      ]
     },
     "metadata": {},
     "output_type": "display_data"
    },
    {
     "data": {
      "image/png": "[encoded data removed]",
      "text/plain": [
       "plot without title"
      ]
     },
     "metadata": {
      "image/png": {
       "height": 420,
       "width": 420
      },
      "text/plain": {
       "height": 420,
       "width": 420
      }
     },
     "output_type": "display_data"
    }
   ],
   "source": [
    "# Question 4a.\n",
    "\n",
    "library(lme4)\n",
    "library(ggplot2)\n",
    "names(cbpp)\n",
    "head(cbpp)\n",
    "ggplot(aes(size, incidence, color = herd), data = cbpp) + \n",
    "geom_point()"
   ]
  },
  {
   "cell_type": "code",
   "execution_count": 4,
   "metadata": {},
   "outputs": [
    {
     "data": {
      "text/plain": [
       "\n",
       "Call:\n",
       "lm(formula = incidence ~ size, data = cbpp)\n",
       "\n",
       "Residuals:\n",
       "    Min      1Q  Median      3Q     Max \n",
       "-3.1456 -1.5925 -0.4864  0.8006  8.6840 \n",
       "\n",
       "Coefficients:\n",
       "            Estimate Std. Error t value Pr(>|t|)   \n",
       "(Intercept) -0.31106    0.73554  -0.423  0.67405   \n",
       "size         0.13827    0.04389   3.150  0.00266 **\n",
       "---\n",
       "Signif. codes:  0 ‘***’ 0.001 ‘**’ 0.01 ‘*’ 0.05 ‘.’ 0.1 ‘ ’ 1\n",
       "\n",
       "Residual standard error: 2.432 on 54 degrees of freedom\n",
       "Multiple R-squared:  0.1553,\tAdjusted R-squared:  0.1396 \n",
       "F-statistic: 9.926 on 1 and 54 DF,  p-value: 0.002657\n"
      ]
     },
     "metadata": {},
     "output_type": "display_data"
    }
   ],
   "source": [
    "# Question 4b.\n",
    "\n",
    "lm.fit = lm(incidence ~ size, data = cbpp)\n",
    "summary(lm.fit)"
   ]
  },
  {
   "cell_type": "markdown",
   "metadata": {},
   "source": [
    "The coefficients section tells us that the slope of herd size is significantly different from 0 (we can reject the null that $H_0: \\beta_1 = 0$). The herd size affects CBPP incidence in a significant manner, and we can see that the direction is positive (each unit change increase in herd size brings up CBPP incidence by 0.13827). Our model predicts ~14% of the variance in CBPP incidence ($r^2$) and the model predicts more than chance (F-statistic: 9.93, p-value < 0.05)."
   ]
  },
  {
   "cell_type": "code",
   "execution_count": 16,
   "metadata": {},
   "outputs": [
    {
     "name": "stderr",
     "output_type": "stream",
     "text": [
      "boundary (singular) fit: see ?isSingular\n",
      "\n"
     ]
    },
    {
     "name": "stdout",
     "output_type": "stream",
     "text": [
      "[1] \"LMER.FIT1\"\n"
     ]
    },
    {
     "data": {
      "text/plain": [
       "Linear mixed model fit by REML ['lmerMod']\n",
       "Formula: incidence ~ size + (size | herd)\n",
       "   Data: cbpp\n",
       "\n",
       "REML criterion at convergence: 240.3\n",
       "\n",
       "Scaled residuals: \n",
       "    Min      1Q  Median      3Q     Max \n",
       "-1.7937 -0.5979 -0.1649  0.4926  2.5174 \n",
       "\n",
       "Random effects:\n",
       " Groups   Name        Variance Std.Dev. Corr \n",
       " herd     (Intercept) 0.5398   0.7347        \n",
       "          size        0.0331   0.1819   -1.00\n",
       " Residual             2.4319   1.5595        \n",
       "Number of obs: 56, groups:  herd, 15\n",
       "\n",
       "Fixed effects:\n",
       "            Estimate Std. Error t value\n",
       "(Intercept) -0.54192    0.63637  -0.852\n",
       "size         0.19645    0.06483   3.030\n",
       "\n",
       "Correlation of Fixed Effects:\n",
       "     (Intr)\n",
       "size -0.822\n",
       "convergence code: 0\n",
       "boundary (singular) fit: see ?isSingular\n"
      ]
     },
     "metadata": {},
     "output_type": "display_data"
    },
    {
     "name": "stdout",
     "output_type": "stream",
     "text": [
      "[1] \"LMER.FIT2\"\n"
     ]
    },
    {
     "data": {
      "text/plain": [
       "Linear mixed model fit by REML ['lmerMod']\n",
       "Formula: incidence ~ size + (1 | herd)\n",
       "   Data: cbpp\n",
       "\n",
       "REML criterion at convergence: 257.9\n",
       "\n",
       "Scaled residuals: \n",
       "    Min      1Q  Median      3Q     Max \n",
       "-1.7326 -0.4817 -0.1526  0.3818  3.0017 \n",
       "\n",
       "Random effects:\n",
       " Groups   Name        Variance Std.Dev.\n",
       " herd     (Intercept) 2.833    1.683   \n",
       " Residual             4.058    2.015   \n",
       "Number of obs: 56, groups:  herd, 15\n",
       "\n",
       "Fixed effects:\n",
       "            Estimate Std. Error t value\n",
       "(Intercept) -1.69665    0.96525  -1.758\n",
       "size         0.23748    0.05264   4.511\n",
       "\n",
       "Correlation of Fixed Effects:\n",
       "     (Intr)\n",
       "size -0.845"
      ]
     },
     "metadata": {},
     "output_type": "display_data"
    }
   ],
   "source": [
    "# Question 4c.\n",
    "\n",
    "lmer.fit1 = lmer(incidence ~ size + (size|herd), data = cbpp)\n",
    "lmer.fit2 = lmer(incidence ~ size + (1|herd), data = cbpp)\n",
    "print(\"LMER.FIT1\")\n",
    "summary(lmer.fit1)\n",
    "print(\"LMER.FIT2\")\n",
    "summary(lmer.fit2)"
   ]
  },
  {
   "cell_type": "markdown",
   "metadata": {},
   "source": [
    "When including the random effect (size|herd) and looking at the t-value for size on incidence in the Fixed effects, it has slightly dropped to 3.03 (from 3.15 in the simple linear model). Thus, we are getting a slightly more conservative model fit on the fixed effect, but it does not seem to be that different."
   ]
  },
  {
   "cell_type": "code",
   "execution_count": 17,
   "metadata": {},
   "outputs": [
    {
     "data": {
      "text/html": [
       "<table>\n",
       "<caption>A data.frame: 3 × 2</caption>\n",
       "<thead>\n",
       "\t<tr><th></th><th scope=col>df</th><th scope=col>AIC</th></tr>\n",
       "\t<tr><th></th><th scope=col>&lt;dbl&gt;</th><th scope=col>&lt;dbl&gt;</th></tr>\n",
       "</thead>\n",
       "<tbody>\n",
       "\t<tr><th scope=row>lm.fit</th><td>3</td><td>262.4036</td></tr>\n",
       "\t<tr><th scope=row>lmer.fit1</th><td>6</td><td>252.2996</td></tr>\n",
       "\t<tr><th scope=row>lmer.fit2</th><td>4</td><td>265.8909</td></tr>\n",
       "</tbody>\n",
       "</table>\n"
      ],
      "text/latex": [
       "A data.frame: 3 × 2\n",
       "\\begin{tabular}{r|ll}\n",
       "  & df & AIC\\\\\n",
       "  & <dbl> & <dbl>\\\\\n",
       "\\hline\n",
       "\tlm.fit & 3 & 262.4036\\\\\n",
       "\tlmer.fit1 & 6 & 252.2996\\\\\n",
       "\tlmer.fit2 & 4 & 265.8909\\\\\n",
       "\\end{tabular}\n"
      ],
      "text/markdown": [
       "\n",
       "A data.frame: 3 × 2\n",
       "\n",
       "| <!--/--> | df &lt;dbl&gt; | AIC &lt;dbl&gt; |\n",
       "|---|---|---|\n",
       "| lm.fit | 3 | 262.4036 |\n",
       "| lmer.fit1 | 6 | 252.2996 |\n",
       "| lmer.fit2 | 4 | 265.8909 |\n",
       "\n"
      ],
      "text/plain": [
       "          df AIC     \n",
       "lm.fit    3  262.4036\n",
       "lmer.fit1 6  252.2996\n",
       "lmer.fit2 4  265.8909"
      ]
     },
     "metadata": {},
     "output_type": "display_data"
    },
    {
     "data": {
      "text/html": [
       "<ol class=list-inline>\n",
       "\t<li>-10.1040454766499</li>\n",
       "\t<li>13.5913391805395</li>\n",
       "</ol>\n"
      ],
      "text/latex": [
       "\\begin{enumerate*}\n",
       "\\item -10.1040454766499\n",
       "\\item 13.5913391805395\n",
       "\\end{enumerate*}\n"
      ],
      "text/markdown": [
       "1. -10.1040454766499\n",
       "2. 13.5913391805395\n",
       "\n",
       "\n"
      ],
      "text/plain": [
       "[1] -10.10405  13.59134"
      ]
     },
     "metadata": {},
     "output_type": "display_data"
    }
   ],
   "source": [
    "# Question 4d.\n",
    "\n",
    "ic = AIC(lm.fit, lmer.fit1, lmer.fit2)\n",
    "ic\n",
    "diff(ic$AIC)"
   ]
  },
  {
   "cell_type": "markdown",
   "metadata": {},
   "source": [
    "Looking at the AIC, the difference in AIC is not that big, but the more complex model (the mixed-effects model) accounts for slightly more variance in CBPP incidence than the simple linear model."
   ]
  },
  {
   "cell_type": "code",
   "execution_count": 10,
   "metadata": {},
   "outputs": [
    {
     "data": {
      "text/html": [
       "<table>\n",
       "<caption>A data.frame: 6 × 7</caption>\n",
       "<thead>\n",
       "\t<tr><th></th><th scope=col>Subject</th><th scope=col>Gender</th><th scope=col>Age</th><th scope=col>FS_IntraCranial_Vol</th><th scope=col>FS_Total_GM_Vol</th><th scope=col>FS_IntraCranial_Vol_zscores</th><th scope=col>FS_Total_GM_Vol_zscores</th></tr>\n",
       "\t<tr><th></th><th scope=col>&lt;int&gt;</th><th scope=col>&lt;fct&gt;</th><th scope=col>&lt;fct&gt;</th><th scope=col>&lt;dbl&gt;</th><th scope=col>&lt;int&gt;</th><th scope=col>&lt;dbl&gt;</th><th scope=col>&lt;dbl&gt;</th></tr>\n",
       "</thead>\n",
       "<tbody>\n",
       "\t<tr><th scope=row>1</th><td>100206</td><td>M</td><td>26-30</td><td>1864518</td><td>807245</td><td> 1.5004445</td><td> 1.8088997</td></tr>\n",
       "\t<tr><th scope=row>2</th><td>100307</td><td>F</td><td>26-30</td><td>1512540</td><td>664124</td><td>-0.3496739</td><td>-0.3260929</td></tr>\n",
       "\t<tr><th scope=row>3</th><td>100408</td><td>M</td><td>31-35</td><td>1684117</td><td>726206</td><td> 0.5521923</td><td> 0.6000089</td></tr>\n",
       "\t<tr><th scope=row>4</th><td>100610</td><td>M</td><td>26-30</td><td>1816044</td><td>762308</td><td> 1.2456468</td><td> 1.1385567</td></tr>\n",
       "\t<tr><th scope=row>5</th><td>101006</td><td>F</td><td>31-35</td><td>1437868</td><td>579632</td><td>-0.7421782</td><td>-1.5864934</td></tr>\n",
       "\t<tr><th scope=row>6</th><td>101107</td><td>M</td><td>22-25</td><td>1512727</td><td>665024</td><td>-0.3486914</td><td>-0.3126672</td></tr>\n",
       "</tbody>\n",
       "</table>\n"
      ],
      "text/latex": [
       "A data.frame: 6 × 7\n",
       "\\begin{tabular}{r|lllllll}\n",
       "  & Subject & Gender & Age & FS\\_IntraCranial\\_Vol & FS\\_Total\\_GM\\_Vol & FS\\_IntraCranial\\_Vol\\_zscores & FS\\_Total\\_GM\\_Vol\\_zscores\\\\\n",
       "  & <int> & <fct> & <fct> & <dbl> & <int> & <dbl> & <dbl>\\\\\n",
       "\\hline\n",
       "\t1 & 100206 & M & 26-30 & 1864518 & 807245 &  1.5004445 &  1.8088997\\\\\n",
       "\t2 & 100307 & F & 26-30 & 1512540 & 664124 & -0.3496739 & -0.3260929\\\\\n",
       "\t3 & 100408 & M & 31-35 & 1684117 & 726206 &  0.5521923 &  0.6000089\\\\\n",
       "\t4 & 100610 & M & 26-30 & 1816044 & 762308 &  1.2456468 &  1.1385567\\\\\n",
       "\t5 & 101006 & F & 31-35 & 1437868 & 579632 & -0.7421782 & -1.5864934\\\\\n",
       "\t6 & 101107 & M & 22-25 & 1512727 & 665024 & -0.3486914 & -0.3126672\\\\\n",
       "\\end{tabular}\n"
      ],
      "text/markdown": [
       "\n",
       "A data.frame: 6 × 7\n",
       "\n",
       "| <!--/--> | Subject &lt;int&gt; | Gender &lt;fct&gt; | Age &lt;fct&gt; | FS_IntraCranial_Vol &lt;dbl&gt; | FS_Total_GM_Vol &lt;int&gt; | FS_IntraCranial_Vol_zscores &lt;dbl&gt; | FS_Total_GM_Vol_zscores &lt;dbl&gt; |\n",
       "|---|---|---|---|---|---|---|---|\n",
       "| 1 | 100206 | M | 26-30 | 1864518 | 807245 |  1.5004445 |  1.8088997 |\n",
       "| 2 | 100307 | F | 26-30 | 1512540 | 664124 | -0.3496739 | -0.3260929 |\n",
       "| 3 | 100408 | M | 31-35 | 1684117 | 726206 |  0.5521923 |  0.6000089 |\n",
       "| 4 | 100610 | M | 26-30 | 1816044 | 762308 |  1.2456468 |  1.1385567 |\n",
       "| 5 | 101006 | F | 31-35 | 1437868 | 579632 | -0.7421782 | -1.5864934 |\n",
       "| 6 | 101107 | M | 22-25 | 1512727 | 665024 | -0.3486914 | -0.3126672 |\n",
       "\n"
      ],
      "text/plain": [
       "  Subject Gender Age   FS_IntraCranial_Vol FS_Total_GM_Vol\n",
       "1 100206  M      26-30 1864518             807245         \n",
       "2 100307  F      26-30 1512540             664124         \n",
       "3 100408  M      31-35 1684117             726206         \n",
       "4 100610  M      26-30 1816044             762308         \n",
       "5 101006  F      31-35 1437868             579632         \n",
       "6 101107  M      22-25 1512727             665024         \n",
       "  FS_IntraCranial_Vol_zscores FS_Total_GM_Vol_zscores\n",
       "1  1.5004445                   1.8088997             \n",
       "2 -0.3496739                  -0.3260929             \n",
       "3  0.5521923                   0.6000089             \n",
       "4  1.2456468                   1.1385567             \n",
       "5 -0.7421782                  -1.5864934             \n",
       "6 -0.3486914                  -0.3126672             "
      ]
     },
     "metadata": {},
     "output_type": "display_data"
    }
   ],
   "source": [
    "#Question 5a.\n",
    "\n",
    "library(tidyverse)\n",
    "d <- read.csv(file = \"unrestricted_trimmed_1_7_2020_10_50_44.csv\")\n",
    "d1 <- select(d, Subject, Gender, Age, FS_IntraCranial_Vol, FS_Total_GM_Vol) %>% na.omit() %>% mutate(FS_IntraCranial_Vol_zscores = (FS_IntraCranial_Vol - mean(FS_IntraCranial_Vol))/sd(FS_IntraCranial_Vol),\n",
    "       FS_Total_GM_Vol_zscores = (FS_Total_GM_Vol - mean(FS_Total_GM_Vol))/sd(FS_Total_GM_Vol))\n",
    "head(d1)"
   ]
  },
  {
   "cell_type": "code",
   "execution_count": 4,
   "metadata": {},
   "outputs": [
    {
     "data": {
      "text/plain": [
       "\n",
       "Call:\n",
       "glm(formula = Gender ~ FS_IntraCranial_Vol, family = binomial, \n",
       "    data = d1)\n",
       "\n",
       "Deviance Residuals: \n",
       "    Min       1Q   Median       3Q      Max  \n",
       "-2.5646  -0.6769  -0.1836   0.6434   3.5450  \n",
       "\n",
       "Coefficients:\n",
       "                      Estimate Std. Error z value Pr(>|z|)    \n",
       "(Intercept)         -1.885e+01  1.113e+00  -16.94   <2e-16 ***\n",
       "FS_IntraCranial_Vol  1.171e-05  6.934e-07   16.89   <2e-16 ***\n",
       "---\n",
       "Signif. codes:  0 ‘***’ 0.001 ‘**’ 0.01 ‘*’ 0.05 ‘.’ 0.1 ‘ ’ 1\n",
       "\n",
       "(Dispersion parameter for binomial family taken to be 1)\n",
       "\n",
       "    Null deviance: 1534.13  on 1112  degrees of freedom\n",
       "Residual deviance:  968.67  on 1111  degrees of freedom\n",
       "AIC: 972.67\n",
       "\n",
       "Number of Fisher Scoring iterations: 5\n"
      ]
     },
     "metadata": {},
     "output_type": "display_data"
    }
   ],
   "source": [
    "#Question 5b.\n",
    "\n",
    "library(ggplot2)\n",
    "glm.fit = glm(formula = Gender ~ FS_IntraCranial_Vol, data = d1, family = binomial)\n",
    "summary(glm.fit)"
   ]
  },
  {
   "cell_type": "markdown",
   "metadata": {},
   "source": [
    "As you can see, if we accept an $\\alpha = 0.05$ (i.e., p < 0.05 for determining statistical significance), then it  appears that intracranial volume measure predicts whether gender ends up being male or female. "
   ]
  },
  {
   "cell_type": "code",
   "execution_count": 5,
   "metadata": {},
   "outputs": [
    {
     "data": {
      "text/html": [
       "<table>\n",
       "<caption>A matrix: 2 × 1 of type dbl</caption>\n",
       "<thead>\n",
       "\t<tr><th></th><th scope=col>M</th></tr>\n",
       "</thead>\n",
       "<tbody>\n",
       "\t<tr><th scope=row>F</th><td>0</td></tr>\n",
       "\t<tr><th scope=row>M</th><td>1</td></tr>\n",
       "</tbody>\n",
       "</table>\n"
      ],
      "text/latex": [
       "A matrix: 2 × 1 of type dbl\n",
       "\\begin{tabular}{r|l}\n",
       "  & M\\\\\n",
       "\\hline\n",
       "\tF & 0\\\\\n",
       "\tM & 1\\\\\n",
       "\\end{tabular}\n"
      ],
      "text/markdown": [
       "\n",
       "A matrix: 2 × 1 of type dbl\n",
       "\n",
       "| <!--/--> | M |\n",
       "|---|---|\n",
       "| F | 0 |\n",
       "| M | 1 |\n",
       "\n"
      ],
      "text/plain": [
       "  M\n",
       "F 0\n",
       "M 1"
      ]
     },
     "metadata": {},
     "output_type": "display_data"
    }
   ],
   "source": [
    "#Question 5c.\n",
    "\n",
    "glm_prob_df = data.frame(predict(glm.fit, type = \"response\"))\n",
    "colnames(glm_prob_df) = c('predicted_prob')\n",
    "glm_prob_df$index = seq(1, nrow(glm_prob_df))\n",
    "contrasts(d1$Gender)"
   ]
  },
  {
   "cell_type": "code",
   "execution_count": 6,
   "metadata": {},
   "outputs": [
    {
     "data": {
      "text/plain": [
       "         actual\n",
       "predicted   F   M\n",
       "  Females 506 113\n",
       "  Males   100 394"
      ]
     },
     "metadata": {},
     "output_type": "display_data"
    },
    {
     "data": {
      "text/html": [
       "0.808625336927224"
      ],
      "text/latex": [
       "0.808625336927224"
      ],
      "text/markdown": [
       "0.808625336927224"
      ],
      "text/plain": [
       "[1] 0.8086253"
      ]
     },
     "metadata": {},
     "output_type": "display_data"
    }
   ],
   "source": [
    "threshold = 0.50\n",
    "glm_prob_df$predicted_binary = rep(\"Females\")\n",
    "glm_prob_df$predicted_binary[glm_prob_df$predicted_prob > threshold] = \"Males\"\n",
    "confusion_df = data.frame(glm_prob_df$predicted_binary, d1$Gender)\n",
    "colnames(confusion_df) = c('predicted', 'actual')\n",
    "table(confusion_df)\n",
    "\n",
    "prediction_accuracy = (506+394)/1113\n",
    "prediction_accuracy"
   ]
  },
  {
   "cell_type": "markdown",
   "metadata": {},
   "source": [
    "This means that we are correct ~81% of the time in estimating whether gender will be male or female given intracranial volume. This represents error on the training set."
   ]
  },
  {
   "cell_type": "code",
   "execution_count": 61,
   "metadata": {
    "scrolled": true
   },
   "outputs": [
    {
     "data": {
      "text/html": [
       "<style>\n",
       ".list-inline {list-style: none; margin:0; padding: 0}\n",
       ".list-inline>li {display: inline-block}\n",
       ".list-inline>li:not(:last-child)::after {content: \"\\00b7\"; padding: 0 .5ex}\n",
       "</style>\n",
       "<ol class=list-inline><li>0.136790098816271</li><li>0.136789845611662</li></ol>\n"
      ],
      "text/latex": [
       "\\begin{enumerate*}\n",
       "\\item 0.136790098816271\n",
       "\\item 0.136789845611662\n",
       "\\end{enumerate*}\n"
      ],
      "text/markdown": [
       "1. 0.136790098816271\n",
       "2. 0.136789845611662\n",
       "\n",
       "\n"
      ],
      "text/plain": [
       "[1] 0.1367901 0.1367898"
      ]
     },
     "metadata": {},
     "output_type": "display_data"
    }
   ],
   "source": [
    "# Question 5d.\n",
    "\n",
    "library(boot)\n",
    "glm.fit = glm(formula = Gender ~ FS_IntraCranial_Vol, data = d1, family = binomial)\n",
    "cv.err = cv.glm(d1, glm.fit, K = nrow(d1))\n",
    "cv.err$delta"
   ]
  },
  {
   "cell_type": "markdown",
   "metadata": {},
   "source": [
    "Here the first entry of cv.err$delta is the raw cross-validation estimate of prediction error and the second is the adjusted cross-validation estimate designed to compensate for the bias introduced by not using leave-one-out cross-validation."
   ]
  },
  {
   "cell_type": "code",
   "execution_count": 100,
   "metadata": {},
   "outputs": [
    {
     "data": {
      "text/html": [
       "<style>\n",
       ".list-inline {list-style: none; margin:0; padding: 0}\n",
       ".list-inline>li {display: inline-block}\n",
       ".list-inline>li:not(:last-child)::after {content: \"\\00b7\"; padding: 0 .5ex}\n",
       "</style>\n",
       "<ol class=list-inline><li>0.136669442832027</li><li>0.136636407383939</li></ol>\n"
      ],
      "text/latex": [
       "\\begin{enumerate*}\n",
       "\\item 0.136669442832027\n",
       "\\item 0.136636407383939\n",
       "\\end{enumerate*}\n"
      ],
      "text/markdown": [
       "1. 0.136669442832027\n",
       "2. 0.136636407383939\n",
       "\n",
       "\n"
      ],
      "text/plain": [
       "[1] 0.1366694 0.1366364"
      ]
     },
     "metadata": {},
     "output_type": "display_data"
    }
   ],
   "source": [
    "# Question 5e.\n",
    "\n",
    "library(boot)\n",
    "glm.fit = glm(formula = Gender ~ FS_IntraCranial_Vol, data = d1, family = binomial)\n",
    "cv.err.1 = cv.glm(d1, glm.fit, K = 10)\n",
    "cv.err.1$delta"
   ]
  },
  {
   "cell_type": "markdown",
   "metadata": {},
   "source": [
    "The K-fold cross-validation is the same as the LOOCV. This suggests that the k-fold cross validation does not provide much better estimates of the true test error than LOOCV in this example."
   ]
  },
  {
   "cell_type": "code",
   "execution_count": 15,
   "metadata": {},
   "outputs": [
    {
     "data": {
      "text/plain": [
       "Call:\n",
       "lda(Gender ~ FS_IntraCranial_Vol, data = d1)\n",
       "\n",
       "Prior probabilities of groups:\n",
       "        F         M \n",
       "0.5444744 0.4555256 \n",
       "\n",
       "Group means:\n",
       "  FS_IntraCranial_Vol\n",
       "F             1471135\n",
       "M             1708069\n",
       "\n",
       "Coefficients of linear discriminants:\n",
       "                            LD1\n",
       "FS_IntraCranial_Vol 6.69985e-06"
      ]
     },
     "metadata": {},
     "output_type": "display_data"
    },
    {
     "data": {
      "image/png": "[encoded data removed]",
      "text/plain": [
       "plot without title"
      ]
     },
     "metadata": {
      "image/png": {
       "height": 420,
       "width": 420
      },
      "text/plain": {
       "height": 420,
       "width": 420
      }
     },
     "output_type": "display_data"
    }
   ],
   "source": [
    "# Question 5f.\n",
    "library(MASS)\n",
    "lda.fit = lda(Gender ~ FS_IntraCranial_Vol, data = d1)\n",
    "lda.fit\n",
    "plot(lda.fit)"
   ]
  },
  {
   "cell_type": "markdown",
   "metadata": {},
   "source": [
    "This indicates that around 54% of the training observations correspond to when Gender is female."
   ]
  },
  {
   "cell_type": "code",
   "execution_count": 24,
   "metadata": {},
   "outputs": [
    {
     "data": {
      "text/html": [
       "<style>\n",
       ".list-inline {list-style: none; margin:0; padding: 0}\n",
       ".list-inline>li {display: inline-block}\n",
       ".list-inline>li:not(:last-child)::after {content: \"\\00b7\"; padding: 0 .5ex}\n",
       "</style>\n",
       "<ol class=list-inline><li>353</li><li>7</li></ol>\n"
      ],
      "text/latex": [
       "\\begin{enumerate*}\n",
       "\\item 353\n",
       "\\item 7\n",
       "\\end{enumerate*}\n"
      ],
      "text/markdown": [
       "1. 353\n",
       "2. 7\n",
       "\n",
       "\n"
      ],
      "text/plain": [
       "[1] 353   7"
      ]
     },
     "metadata": {},
     "output_type": "display_data"
    }
   ],
   "source": [
    "train_idx = (d1$Subject<500000)\n",
    "d1_test = d1[!train_idx,]\n",
    "dim(d1_test)\n",
    "Gender.Subject_test = d1_test$Gender"
   ]
  },
  {
   "cell_type": "code",
   "execution_count": 25,
   "metadata": {},
   "outputs": [
    {
     "data": {
      "text/plain": [
       "         Gender.Subject_test\n",
       "lda.class   F   M\n",
       "        F 148  37\n",
       "        M  33 135"
      ]
     },
     "metadata": {},
     "output_type": "display_data"
    },
    {
     "data": {
      "text/html": [
       "0.801699716713881"
      ],
      "text/latex": [
       "0.801699716713881"
      ],
      "text/markdown": [
       "0.801699716713881"
      ],
      "text/plain": [
       "[1] 0.8016997"
      ]
     },
     "metadata": {},
     "output_type": "display_data"
    }
   ],
   "source": [
    "lda.pred = predict(lda.fit, d1_test)\n",
    "lda.class = lda.pred$class\n",
    "table(lda.class, Gender.Subject_test)\n",
    "mean(lda.class == Gender.Subject_test)"
   ]
  },
  {
   "cell_type": "markdown",
   "metadata": {},
   "source": [
    "So we now see that the LDA is performing just as well as the logistic regression at ~80% test set accuracy."
   ]
  },
  {
   "cell_type": "code",
   "execution_count": null,
   "metadata": {},
   "outputs": [],
   "source": []
  }
 ],
 "metadata": {
  "kernelspec": {
   "display_name": "R",
   "language": "R",
   "name": "ir"
  },
  "language_info": {
   "codemirror_mode": "r",
   "file_extension": ".r",
   "mimetype": "text/x-r-source",
   "name": "R",
   "pygments_lexer": "r",
   "version": "3.6.1"
  }
 },
 "nbformat": 4,
 "nbformat_minor": 4
}
